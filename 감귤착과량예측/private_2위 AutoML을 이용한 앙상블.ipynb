{
 "cells": [
  {
   "cell_type": "code",
   "execution_count": 1,
   "id": "1b51ad0a-3302-4b85-9bc4-3194981f4cf7",
   "metadata": {},
   "outputs": [
    {
     "ename": "ModuleNotFoundError",
     "evalue": "No module named 'supervised'",
     "output_type": "error",
     "traceback": [
      "\u001b[1;31m---------------------------------------------------------------------------\u001b[0m",
      "\u001b[1;31mModuleNotFoundError\u001b[0m                       Traceback (most recent call last)",
      "\u001b[1;32me:\\Side project\\data_engineering\\감귤착과량예측\\private_2위 AutoML을 이용한 앙상블.ipynb Cell 1\u001b[0m in \u001b[0;36m<cell line: 6>\u001b[1;34m()\u001b[0m\n\u001b[0;32m      <a href='vscode-notebook-cell:/e%3A/Side%20project/data_engineering/%EA%B0%90%EA%B7%A4%EC%B0%A9%EA%B3%BC%EB%9F%89%EC%98%88%EC%B8%A1/private_2%EC%9C%84%20AutoML%EC%9D%84%20%EC%9D%B4%EC%9A%A9%ED%95%9C%20%EC%95%99%EC%83%81%EB%B8%94.ipynb#W0sZmlsZQ%3D%3D?line=2'>3</a>\u001b[0m \u001b[39mimport\u001b[39;00m \u001b[39mrandom\u001b[39;00m\n\u001b[0;32m      <a href='vscode-notebook-cell:/e%3A/Side%20project/data_engineering/%EA%B0%90%EA%B7%A4%EC%B0%A9%EA%B3%BC%EB%9F%89%EC%98%88%EC%B8%A1/private_2%EC%9C%84%20AutoML%EC%9D%84%20%EC%9D%B4%EC%9A%A9%ED%95%9C%20%EC%95%99%EC%83%81%EB%B8%94.ipynb#W0sZmlsZQ%3D%3D?line=3'>4</a>\u001b[0m \u001b[39mimport\u001b[39;00m \u001b[39mos\u001b[39;00m\n\u001b[1;32m----> <a href='vscode-notebook-cell:/e%3A/Side%20project/data_engineering/%EA%B0%90%EA%B7%A4%EC%B0%A9%EA%B3%BC%EB%9F%89%EC%98%88%EC%B8%A1/private_2%EC%9C%84%20AutoML%EC%9D%84%20%EC%9D%B4%EC%9A%A9%ED%95%9C%20%EC%95%99%EC%83%81%EB%B8%94.ipynb#W0sZmlsZQ%3D%3D?line=5'>6</a>\u001b[0m \u001b[39mfrom\u001b[39;00m \u001b[39msupervised\u001b[39;00m\u001b[39m.\u001b[39;00m\u001b[39mautoml\u001b[39;00m \u001b[39mimport\u001b[39;00m AutoML\n",
      "\u001b[1;31mModuleNotFoundError\u001b[0m: No module named 'supervised'"
     ]
    }
   ],
   "source": [
    "import pandas as pd\n",
    "import numpy as np\n",
    "import random\n",
    "import os\n",
    "\n",
    "from supervised.automl import AutoML"
   ]
  },
  {
   "cell_type": "code",
   "execution_count": 2,
   "id": "f6da0bfa-e3bf-4040-840c-ce10d955b6e8",
   "metadata": {},
   "outputs": [],
   "source": [
    "def seed_everything(seed):\n",
    "    random.seed(seed)\n",
    "    os.environ['PYTHONHASHSEED'] = str(seed)\n",
    "    np.random.seed(seed)\n",
    "seed_everything(42) # Seed 고정"
   ]
  },
  {
   "cell_type": "code",
   "execution_count": 3,
   "id": "30b3cdba-908e-4767-9e48-61d7acd8d21b",
   "metadata": {},
   "outputs": [],
   "source": [
    "import matplotlib\n",
    "from matplotlib import font_manager, rc\n",
    "import matplotlib.pyplot as plt\n",
    "font_name = font_manager.FontProperties(fname=\"c:/Windows/Fonts/malgun.ttf\").get_name()\n",
    "rc('font', family=font_name)\n",
    "    \n",
    "matplotlib.rcParams['axes.unicode_minus'] = False  "
   ]
  },
  {
   "cell_type": "code",
   "execution_count": 4,
   "id": "4bc5accb-7a3c-4bc2-8d2a-b1e81e9e0c45",
   "metadata": {},
   "outputs": [],
   "source": [
    "train_df = pd.read_csv(\"train.csv\")\n",
    "test_df =  pd.read_csv(\"test.csv\")"
   ]
  },
  {
   "cell_type": "code",
   "execution_count": 5,
   "id": "b74d520a-3167-43c9-9c3c-9e0eeb74f3f7",
   "metadata": {},
   "outputs": [],
   "source": [
    "train_df[\"엽록소mean\"] = train_df.filter(regex=\"엽록소\").mean(axis=1)\n",
    "train_df[\"엽록소std\"]  = train_df.filter(regex=\"엽록소\").std(axis=1)\n",
    "train_df[\"엽록소diff\"] = train_df[\"2022-11-28 엽록소\"] - train_df[\"2022-09-01 엽록소\"]\n",
    "\n",
    "train_df[\"새순mean\"]   = train_df.filter(regex=\"새순\").mean(axis=1)\n",
    "train_df[\"새순std\"]    = train_df.filter(regex=\"새순\").std(axis=1)\n",
    "train_df[\"새순diff\"] = train_df[\"2022-11-28 새순\"] - train_df[\"2022-09-01 새순\"]\n",
    "\n",
    "test_df[\"엽록소mean\"] = test_df.filter(regex=\"엽록소\").mean(axis=1)\n",
    "test_df[\"엽록소std\"]  = test_df.filter(regex=\"엽록소\").std(axis=1)\n",
    "test_df[\"엽록소diff\"] = test_df[\"2022-11-28 엽록소\"] - test_df[\"2022-09-01 엽록소\"]\n",
    "\n",
    "test_df[\"새순mean\"]   = test_df.filter(regex=\"새순\").mean(axis=1)\n",
    "test_df[\"새순std\"]    = test_df.filter(regex=\"새순\").std(axis=1)\n",
    "test_df[\"새순diff\"]   = test_df[\"2022-11-28 새순\"] - test_df[\"2022-09-01 새순\"]"
   ]
  },
  {
   "cell_type": "code",
   "execution_count": 6,
   "id": "7aef6224-1ace-4280-a3c4-8527ae6c05f7",
   "metadata": {},
   "outputs": [],
   "source": [
    "X = train_df.iloc[:, 2:]\n",
    "y = train_df.iloc[:, 1]"
   ]
  },
  {
   "cell_type": "code",
   "execution_count": 7,
   "id": "a5b67466-3622-41b7-8753-9fe20d835061",
   "metadata": {},
   "outputs": [],
   "source": [
    "automl = AutoML(mode=\"Compete\", eval_metric='mae')"
   ]
  },
  {
   "cell_type": "code",
   "execution_count": null,
   "id": "4effb95a-c48a-418b-b4b4-f3d1f5576b67",
   "metadata": {},
   "outputs": [],
   "source": [
    "automl.fit(X, y)"
   ]
  },
  {
   "cell_type": "code",
   "execution_count": 9,
   "id": "de0a5da4-5383-48f1-a839-2b82a6b7bef4",
   "metadata": {},
   "outputs": [],
   "source": [
    "pred = automl.predict(test_df.iloc[:, 1:])"
   ]
  },
  {
   "cell_type": "code",
   "execution_count": 10,
   "id": "9b14c939-3d63-4a7b-b357-ccdb874e2d1f",
   "metadata": {},
   "outputs": [
    {
     "data": {
      "text/html": [
       "<div>\n",
       "<style scoped>\n",
       "    .dataframe tbody tr th:only-of-type {\n",
       "        vertical-align: middle;\n",
       "    }\n",
       "\n",
       "    .dataframe tbody tr th {\n",
       "        vertical-align: top;\n",
       "    }\n",
       "\n",
       "    .dataframe thead th {\n",
       "        text-align: right;\n",
       "    }\n",
       "</style>\n",
       "<table border=\"1\" class=\"dataframe\">\n",
       "  <thead>\n",
       "    <tr style=\"text-align: right;\">\n",
       "      <th></th>\n",
       "      <th>ID</th>\n",
       "      <th>착과량(int)</th>\n",
       "    </tr>\n",
       "  </thead>\n",
       "  <tbody>\n",
       "    <tr>\n",
       "      <th>0</th>\n",
       "      <td>TEST_0000</td>\n",
       "      <td>251.032478</td>\n",
       "    </tr>\n",
       "    <tr>\n",
       "      <th>1</th>\n",
       "      <td>TEST_0001</td>\n",
       "      <td>756.775072</td>\n",
       "    </tr>\n",
       "    <tr>\n",
       "      <th>2</th>\n",
       "      <td>TEST_0002</td>\n",
       "      <td>153.223762</td>\n",
       "    </tr>\n",
       "    <tr>\n",
       "      <th>3</th>\n",
       "      <td>TEST_0003</td>\n",
       "      <td>448.426183</td>\n",
       "    </tr>\n",
       "    <tr>\n",
       "      <th>4</th>\n",
       "      <td>TEST_0004</td>\n",
       "      <td>681.876415</td>\n",
       "    </tr>\n",
       "    <tr>\n",
       "      <th>...</th>\n",
       "      <td>...</td>\n",
       "      <td>...</td>\n",
       "    </tr>\n",
       "    <tr>\n",
       "      <th>2203</th>\n",
       "      <td>TEST_2203</td>\n",
       "      <td>758.196147</td>\n",
       "    </tr>\n",
       "    <tr>\n",
       "      <th>2204</th>\n",
       "      <td>TEST_2204</td>\n",
       "      <td>336.533451</td>\n",
       "    </tr>\n",
       "    <tr>\n",
       "      <th>2205</th>\n",
       "      <td>TEST_2205</td>\n",
       "      <td>354.282403</td>\n",
       "    </tr>\n",
       "    <tr>\n",
       "      <th>2206</th>\n",
       "      <td>TEST_2206</td>\n",
       "      <td>252.154888</td>\n",
       "    </tr>\n",
       "    <tr>\n",
       "      <th>2207</th>\n",
       "      <td>TEST_2207</td>\n",
       "      <td>77.739939</td>\n",
       "    </tr>\n",
       "  </tbody>\n",
       "</table>\n",
       "<p>2208 rows × 2 columns</p>\n",
       "</div>"
      ],
      "text/plain": [
       "             ID    착과량(int)\n",
       "0     TEST_0000  251.032478\n",
       "1     TEST_0001  756.775072\n",
       "2     TEST_0002  153.223762\n",
       "3     TEST_0003  448.426183\n",
       "4     TEST_0004  681.876415\n",
       "...         ...         ...\n",
       "2203  TEST_2203  758.196147\n",
       "2204  TEST_2204  336.533451\n",
       "2205  TEST_2205  354.282403\n",
       "2206  TEST_2206  252.154888\n",
       "2207  TEST_2207   77.739939\n",
       "\n",
       "[2208 rows x 2 columns]"
      ]
     },
     "execution_count": 10,
     "metadata": {},
     "output_type": "execute_result"
    }
   ],
   "source": [
    "submission = pd.read_csv(\"sample_submission.csv\")\n",
    "submission.iloc[:, 1] = pred\n",
    "submission"
   ]
  },
  {
   "cell_type": "code",
   "execution_count": 11,
   "id": "d4e50446-43d9-4c8d-b233-27260c5edf45",
   "metadata": {},
   "outputs": [],
   "source": [
    "submission.to_csv(\"automl comepete2.csv\", index=False)"
   ]
  },
  {
   "cell_type": "code",
   "execution_count": null,
   "id": "445a5ad1-2eeb-493a-ac5b-be2d9c61a7b4",
   "metadata": {},
   "outputs": [],
   "source": []
  }
 ],
 "metadata": {
  "kernelspec": {
   "display_name": "Python 3",
   "language": "python",
   "name": "python3"
  },
  "language_info": {
   "codemirror_mode": {
    "name": "ipython",
    "version": 3
   },
   "file_extension": ".py",
   "mimetype": "text/x-python",
   "name": "python",
   "nbconvert_exporter": "python",
   "pygments_lexer": "ipython3",
   "version": "3.8.10 (tags/v3.8.10:3d8993a, May  3 2021, 11:48:03) [MSC v.1928 64 bit (AMD64)]"
  },
  "vscode": {
   "interpreter": {
    "hash": "1c0cb95b7ee32a3f553f120a9e97bb7534760400f00b6da71ab9ce249b2c34a6"
   }
  }
 },
 "nbformat": 4,
 "nbformat_minor": 5
}
