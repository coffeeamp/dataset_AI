{
 "cells": [
  {
   "cell_type": "code",
   "execution_count": 66,
   "id": "1efa5637",
   "metadata": {},
   "outputs": [],
   "source": [
    "import pandas as pd\n",
    "import matplotlib.pylab as plt\n",
    "import seaborn as sns"
   ]
  },
  {
   "cell_type": "code",
   "execution_count": 71,
   "id": "ab3bcdf4",
   "metadata": {},
   "outputs": [],
   "source": [
    "train_df = pd.read_csv(\"./test.csv\") # input data\n",
    "\n",
    "# data.to_csv(\"./test2.csv\", index=False) # output data"
   ]
  },
  {
   "cell_type": "code",
   "execution_count": 76,
   "id": "b189c463",
   "metadata": {},
   "outputs": [
    {
     "data": {
      "text/plain": [
       "<bound method NDFrame.describe of              ID  수고(m)  수관폭1(min)  수관폭2(max)  수관폭평균  2022-09-01 새순  \\\n",
       "0     TEST_0000    231        219        302  260.5            4.3   \n",
       "1     TEST_0001    206        324        346  335.0            2.5   \n",
       "2     TEST_0002    282        373        404  388.5            4.7   \n",
       "3     TEST_0003    234        337        357  347.0            3.6   \n",
       "4     TEST_0004    222        329        347  338.0            2.7   \n",
       "...         ...    ...        ...        ...    ...            ...   \n",
       "2203  TEST_2203    217        265        288  276.5            2.5   \n",
       "2204  TEST_2204    182        191        262  226.5            4.1   \n",
       "2205  TEST_2205    254        280        332  306.0            3.8   \n",
       "2206  TEST_2206    257        285        297  291.0            4.5   \n",
       "2207  TEST_2207    244        380        391  385.5            4.9   \n",
       "\n",
       "      2022-09-02 새순  2022-09-03 새순  2022-09-04 새순  \n",
       "0               4.2            4.2            4.1  \n",
       "1               2.5            2.5            2.5  \n",
       "2               4.7            4.6            4.6  \n",
       "3               3.6            3.6            3.6  \n",
       "4               2.7            2.7            2.7  \n",
       "...             ...            ...            ...  \n",
       "2203            2.5            2.4            2.4  \n",
       "2204            4.1            4.1            4.0  \n",
       "2205            3.8            3.8            3.7  \n",
       "2206            4.4            4.4            4.3  \n",
       "2207            4.8            4.8            4.7  \n",
       "\n",
       "[2208 rows x 9 columns]>"
      ]
     },
     "execution_count": 76,
     "metadata": {},
     "output_type": "execute_result"
    }
   ],
   "source": [
    "train_df.iloc[:,:9].describe"
   ]
  },
  {
   "cell_type": "code",
   "execution_count": 74,
   "id": "912e1981",
   "metadata": {},
   "outputs": [
    {
     "data": {
      "text/plain": [
       "<AxesSubplot:>"
      ]
     },
     "execution_count": 74,
     "metadata": {},
     "output_type": "execute_result"
    },
    {
     "data": {
      "image/png": "[encoded data removed]",
      "text/plain": [
       "<Figure size 432x288 with 1 Axes>"
      ]
     },
     "metadata": {
      "needs_background": "light"
     },
     "output_type": "display_data"
    }
   ],
   "source": [
    "sns.scatterplot(data=train_df.filter(regex=\"새순\").iloc[9].values)"
   ]
  },
  {
   "cell_type": "code",
   "execution_count": null,
   "id": "2bd3f1e3",
   "metadata": {},
   "outputs": [],
   "source": []
  }
 ],
 "metadata": {
  "kernelspec": {
   "display_name": "Python 3",
   "language": "python",
   "name": "python3"
  },
  "language_info": {
   "codemirror_mode": {
    "name": "ipython",
    "version": 3
   },
   "file_extension": ".py",
   "mimetype": "text/x-python",
   "name": "python",
   "nbconvert_exporter": "python",
   "pygments_lexer": "ipython3",
   "version": "3.8.10 (tags/v3.8.10:3d8993a, May  3 2021, 11:48:03) [MSC v.1928 64 bit (AMD64)]"
  },
  "vscode": {
   "interpreter": {
    "hash": "1c0cb95b7ee32a3f553f120a9e97bb7534760400f00b6da71ab9ce249b2c34a6"
   }
  }
 },
 "nbformat": 4,
 "nbformat_minor": 5
}
