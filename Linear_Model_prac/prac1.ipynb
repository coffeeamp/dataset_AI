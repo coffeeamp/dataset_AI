{
 "cells": [
  {
   "cell_type": "code",
   "execution_count": 2,
   "metadata": {},
   "outputs": [
    {
     "name": "stderr",
     "output_type": "stream",
     "text": [
      "C:\\Users\\Owner\\AppData\\Local\\Temp\\ipykernel_10268\\4071927967.py:4: MatplotlibDeprecationWarning: The seaborn styles shipped by Matplotlib are deprecated since 3.6, as they no longer correspond to the styles shipped by seaborn. However, they will remain available as 'seaborn-v0_8-<style>'. Alternatively, directly use the seaborn API instead.\n",
      "  plt.style.use('seaborn-whitegrid')\n"
     ]
    }
   ],
   "source": [
    "import numpy as np\n",
    "import tensorflow as tf\n",
    "import matplotlib.pyplot as plt\n",
    "plt.style.use('seaborn-whitegrid')"
   ]
  },
  {
   "attachments": {},
   "cell_type": "markdown",
   "metadata": {},
   "source": [
    "# 선형 모델(Linear Models)\n",
    "\n",
    "* 선형 모델은 과거 부터 지금 까지 널리 사용되고 연구 되고 있는 기계학습 방법\n",
    "* 선형 모델은 입력 데이터에 대한 선형 함수를 만들어 예측 수행\n",
    "\n",
    "* 회귀 분석을 위한 선형 모델은 다음과 같이 정의\n",
    "\n",
    "\\begin{equation}\n",
    "\\hat{y}(w,x) = w_0 + w_1 x_1 + ... + w_p x_p\n",
    "\\end{equation}\n",
    "\n",
    "  + $x$: 입력 데이터\n",
    "  + $w$: 모델이 학습할 파라미터\n",
    "  + $w_0$: 편향\n",
    "  + $w_1$~$w_p$: 가중치\n"
   ]
  },
  {
   "cell_type": "code",
   "execution_count": 3,
   "metadata": {},
   "outputs": [],
   "source": [
    "learning_rate = 0.01\n",
    "training_epochs = 1000"
   ]
  },
  {
   "cell_type": "code",
   "execution_count": 5,
   "metadata": {},
   "outputs": [],
   "source": [
    "X = np.random.randn(50)\n",
    "Y = 2*X + np.random.randn(50)"
   ]
  },
  {
   "cell_type": "code",
   "execution_count": 6,
   "metadata": {},
   "outputs": [],
   "source": [
    "W = tf.Variable(np.random.randn(), name='weight')\n",
    "b = tf.Variable(np.random.randn(), name='bias')\n",
    "\n",
    "def linear_regression(x):\n",
    "   return W*x + bin # 선형 회귀식\n",
    "\n",
    "def mean_square(y_pred, y_true):\n",
    "   return tf.reduce_mean(tf.square(y_pred - y_true)) # 예측값 - 실제값의 제곱의 평균\n",
    "\n",
    "optimizer = tf.optimizers.SGD(learning_rate)\n"
   ]
  },
  {
   "cell_type": "code",
   "execution_count": 20,
   "metadata": {},
   "outputs": [
    {
     "name": "stdout",
     "output_type": "stream",
     "text": [
      "학습 데이터 점수: 0.98\n",
      "평가 데이터 점수: 0.98\n"
     ]
    }
   ],
   "source": [
    "def run_optimization(): # 최적화를 위한 함수\n",
    "   with tf.GradientTape() as g: # 자동 미분을 위한 테이프\n",
    "       pred = linear_regression(X) # 예측값\n",
    "       loss = mean_square(pred, Y) # 손실값\n",
    "   gradients = g.gradient(loss, [W, b]) # 손실값에 대한 가중치와 바이어스의 기울기\n",
    "   optimizer.apply_gradients(zip(gradients, [W, b])) # 가중치와 바이어스 업데이트"
   ]
  },
  {
   "cell_type": "code",
   "execution_count": 22,
   "metadata": {},
   "outputs": [
    {
     "data": {
      "text/plain": [
       "[<matplotlib.lines.Line2D at 0x1ff21bfa5b0>]"
      ]
     },
     "execution_count": 22,
     "metadata": {},
     "output_type": "execute_result"
    },
    {
     "data": {
      "image/png": "[encoded data removed]",
      "text/plain": [
       "<Figure size 640x480 with 1 Axes>"
      ]
     },
     "metadata": {},
     "output_type": "display_data"
    }
   ],
   "source": [
    "predict = model.predict(X_test)\n",
    "\n",
    "plt.scatter(X_test, y_test)\n",
    "plt.plot(X_test, predict, color='red')"
   ]
  },
  {
   "cell_type": "code",
   "execution_count": null,
   "metadata": {},
   "outputs": [],
   "source": []
  }
 ],
 "metadata": {
  "kernelspec": {
   "display_name": "tensorflow_env",
   "language": "python",
   "name": "python3"
  },
  "language_info": {
   "codemirror_mode": {
    "name": "ipython",
    "version": 3
   },
   "file_extension": ".py",
   "mimetype": "text/x-python",
   "name": "python",
   "nbconvert_exporter": "python",
   "pygments_lexer": "ipython3",
   "version": "3.10.4"
  },
  "orig_nbformat": 4,
  "vscode": {
   "interpreter": {
    "hash": "ed2bd8afe35ac8e04e3273705dfa5202dc0c9a433ef2582b988ed304bea5c5f7"
   }
  }
 },
 "nbformat": 4,
 "nbformat_minor": 2
}
